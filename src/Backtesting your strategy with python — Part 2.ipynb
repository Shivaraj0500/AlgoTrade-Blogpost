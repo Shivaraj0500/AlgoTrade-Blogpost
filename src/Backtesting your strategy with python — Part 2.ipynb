import datetime

# Function to calculate option payoff
def option_payoff(strike_price, option_type, stock_price, premium):
    if option_type == 'call':
        return max(stock_price - strike_price, 0) - premium
    elif option_type == 'put':
        return max(strike_price - stock_price, 0) - premium
    else:
        raise ValueError("Option type must be 'call' or 'put'")

# Rule-based strategy for Bank Nifty
def banknifty_option_strategy(current_stock_price, call_premium, put_premium):
    # Initialization
    trade_time = datetime.time(9, 45)  # Trade at 9:45 AM
    strike_price = round(current_stock_price / 100) * 100  # Round to nearest 100 for ATM strike
    initial_premium = call_premium + put_premium
    print(f"Initial premium received: {initial_premium}")

    # Calculate stop-loss levels
    call_stop_loss = call_premium * 0.70  # 30% stop-loss for call option
    put_stop_loss = put_premium * 0.70  # 30% stop-loss for put option

    # Simulate different stock prices to check stop-loss trigger
    stock_price_movements = [current_stock_price - 5, current_stock_price + 5, current_stock_price - 10, current_stock_price + 10]
    
    for simulated_stock_price in stock_price_movements:
        print(f"\nSimulated stock price: {simulated_stock_price}")
        
        # Calculate new payoffs after simulated stock price change
        call_payoff_amount = option_payoff(strike_price, 'call', simulated_stock_price, call_premium)
        put_payoff_amount = option_payoff(strike_price, 'put', simulated_stock_price, put_premium)

        # Check if stop-loss triggers
        call_triggered = call_payoff_amount < -call_stop_loss
        put_triggered = put_payoff_amount < -put_stop_loss

        if call_triggered or put_triggered:
            print("Stop-loss triggered! Closing positions.")
            
            # Calculate final payoffs after closing positions
            call_final_payoff = -call_stop_loss if call_triggered else call_payoff_amount
            put_final_payoff = -put_stop_loss if put_triggered else put_payoff_amount

            # Calculate final outcome including initial premium
            final_outcome = initial_premium + call_final_payoff + put_final_payoff
            print(f"Final outcome after adjustments: {final_outcome}")
        else:
            print("No stop-loss triggered. Positions remain open.")
            # Final outcome without adjustments
            final_outcome = initial_premium + call_payoff_amount + put_payoff_amount
            print(f"Final outcome without adjustments: {final_outcome}")

# Example usage
if __name__ == "__main__":
    current_stock_price = 35000  # Example current Bank Nifty price
    call_premium = 300  # Example premium for ATM call option
    put_premium = 300  # Example premium for ATM put option

    banknifty_option_strategy(current_stock_price, call_premium, put_premium)
